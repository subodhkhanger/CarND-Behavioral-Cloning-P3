{
  "nbformat": 4,
  "nbformat_minor": 0,
  "metadata": {
    "colab": {
      "name": "dlnd_face_generation.ipynb",
      "version": "0.3.2",
      "provenance": [],
      "toc_visible": true,
      "include_colab_link": true
    },
    "kernelspec": {
      "name": "python3",
      "display_name": "Python 3"
    },
    "accelerator": "GPU"
  },
  "cells": [
    {
      "cell_type": "markdown",
      "metadata": {
        "id": "view-in-github",
        "colab_type": "text"
      },
      "source": [
        "<a href=\"https://colab.research.google.com/github/subodhkhanger/CarND-Behavioral-Cloning-P3/blob/master/dlnd_face_generation.ipynb\" target=\"_parent\"><img src=\"https://colab.research.google.com/assets/colab-badge.svg\" alt=\"Open In Colab\"/></a>"
      ]
    },
    {
      "metadata": {
        "id": "cBXYFmG56EYH",
        "colab_type": "text"
      },
      "cell_type": "markdown",
      "source": [
        "# Face Generation\n",
        "\n",
        "In this project, you'll define and train a DCGAN on a dataset of faces. Your goal is to get a generator network to generate *new* images of faces that look as realistic as possible!\n",
        "\n",
        "The project will be broken down into a series of tasks from **loading in data to defining and training adversarial networks**. At the end of the notebook, you'll be able to visualize the results of your trained Generator to see how it performs; your generated samples should look like fairly realistic faces with small amounts of noise.\n",
        "\n",
        "### Get the Data\n",
        "\n",
        "You'll be using the [CelebFaces Attributes Dataset (CelebA)](http://mmlab.ie.cuhk.edu.hk/projects/CelebA.html) to train your adversarial networks.\n",
        "\n",
        "This dataset is more complex than the number datasets (like MNIST or SVHN) you've been working with, and so, you should prepare to define deeper networks and train them for a longer time to get good results. It is suggested that you utilize a GPU for training.\n",
        "\n",
        "### Pre-processed Data\n",
        "\n",
        "Since the project's main focus is on building the GANs, we've done *some* of the pre-processing for you. Each of the CelebA images has been cropped to remove parts of the image that don't include a face, then resized down to 64x64x3 NumPy images. Some sample data is show below.\n",
        "\n",
        "<img src='https://github.com/subodhkhanger/deep-learning-v2-pytorch/blob/master/project-face-generation/assets/processed_face_data.png?raw=1' width=60% />\n",
        "\n",
        "> If you are working locally, you can download this data [by clicking here](https://s3.amazonaws.com/video.udacity-data.com/topher/2018/November/5be7eb6f_processed-celeba-small/processed-celeba-small.zip)\n",
        "\n",
        "This is a zip file that you'll need to extract in the home directory of this notebook for further loading and processing. After extracting the data, you should be left with a directory of data `processed_celeba_small/`"
      ]
    },
    {
      "metadata": {
        "id": "PEuEIfIJ6EYL",
        "colab_type": "code",
        "outputId": "8ebd4bcd-f39a-4fff-f1ff-8740bb06971e",
        "colab": {
          "base_uri": "https://localhost:8080/",
          "height": 34
        }
      },
      "cell_type": "code",
      "source": [
        "# can comment out after executing\n",
        "!unzip -qq processed-celeba-small.zip\n",
        "!rm -r processed_celeba_small.zip || true\n",
        "\n"
      ],
      "execution_count": 0,
      "outputs": [
        {
          "output_type": "stream",
          "text": [
            "rm: cannot remove 'processed_celeba_small.zip': No such file or directory\n"
          ],
          "name": "stdout"
        }
      ]
    },
    {
      "metadata": {
        "id": "y4FexaUHZLnB",
        "colab_type": "code",
        "colab": {}
      },
      "cell_type": "code",
      "source": [
        "!wget -cq https://s3.amazonaws.com/video.udacity-data.com/topher/2018/November/5be7eb6f_processed-celeba-small/processed-celeba-small.zip\n",
        "  "
      ],
      "execution_count": 0,
      "outputs": []
    },
    {
      "metadata": {
        "id": "ioQJw3b5aKWF",
        "colab_type": "code",
        "colab": {}
      },
      "cell_type": "code",
      "source": [
        "!rm -r __MACOSX || true"
      ],
      "execution_count": 0,
      "outputs": []
    },
    {
      "metadata": {
        "id": "aPM-CeOSaU7u",
        "colab_type": "code",
        "colab": {}
      },
      "cell_type": "code",
      "source": [
        "!rm -r processed-celeba-small.zip || true\n"
      ],
      "execution_count": 0,
      "outputs": []
    },
    {
      "metadata": {
        "id": "9_5vZ45K6EYP",
        "colab_type": "code",
        "colab": {}
      },
      "cell_type": "code",
      "source": [
        "data_dir = './processed_celeba_small/'\n",
        "\n",
        "\"\"\"\n",
        "DON'T MODIFY ANYTHING IN THIS CELL\n",
        "\"\"\"\n",
        "import pickle as pkl\n",
        "import matplotlib.pyplot as plt\n",
        "import numpy as np\n",
        "#import problem_unittests as tests\n",
        "#import helper\n",
        "\n",
        "%matplotlib inline\n"
      ],
      "execution_count": 0,
      "outputs": []
    },
    {
      "metadata": {
        "id": "IzYE57ckDx0L",
        "colab_type": "code",
        "colab": {}
      },
      "cell_type": "code",
      "source": [
        "%matplotlib inline\n",
        "%config InlineBackend.figure_format = 'retina'\n",
        "\n",
        "import matplotlib.pyplot as plt\n",
        "import matplotlib.image as mpimg\n",
        "import numpy as np\n",
        "import time\n",
        "import torch\n",
        "from PIL import Image\n",
        "import matplotlib.gridspec as gridspec\n",
        "from torch import nn\n",
        "from torch import optim\n",
        "import torch.nn.functional as F\n",
        "from torch.autograd import Variable\n",
        "from torchvision import datasets, transforms, models\n",
        "from torch.utils.data import DataLoader\n",
        "from collections import OrderedDict\n",
        "import json"
      ],
      "execution_count": 0,
      "outputs": []
    },
    {
      "metadata": {
        "id": "9cxPrF66cBgg",
        "colab_type": "code",
        "colab": {}
      },
      "cell_type": "code",
      "source": [
        "from unittest.mock import MagicMock, patch\n",
        "import numpy as np\n",
        "import torch\n",
        "\n",
        "\n",
        "def _print_success_message():\n",
        "    print('Tests Passed')\n",
        "\n",
        "\n",
        "class AssertTest(object):\n",
        "    def __init__(self, params):\n",
        "        self.assert_param_message = '\\n'.join([str(k) + ': ' + str(v) + '' for k, v in params.items()])\n",
        "\n",
        "    def test(self, assert_condition, assert_message):\n",
        "        assert assert_condition, assert_message + '\\n\\nUnit Test Function Parameters\\n' + self.assert_param_message\n",
        "        \n",
        "\n",
        "def test_discriminator(Discriminator):\n",
        "    batch_size = 50\n",
        "    conv_dim=10\n",
        "    D = Discriminator(conv_dim)\n",
        "\n",
        "    # create random image input\n",
        "    x = torch.from_numpy(np.random.randint(1, size=(batch_size, 3, 32, 32))*2 -1).float()\n",
        "    \n",
        "    train_on_gpu = torch.cuda.is_available()\n",
        "    if train_on_gpu:\n",
        "        x.cuda()\n",
        "\n",
        "    output = D(x)\n",
        "    assert_test = AssertTest({\n",
        "        'Conv Dim': conv_dim,\n",
        "        'Batch Size': batch_size,\n",
        "        'Input': x})\n",
        "\n",
        "    correct_output_size = (batch_size, 1)\n",
        "    assert_condition = output.size() == correct_output_size\n",
        "    assert_message = 'Wrong output size. Expected type {}. Got type {}'.format(correct_output_size, output.size())\n",
        "    assert_test.test(assert_condition, assert_message)\n",
        "\n",
        "    _print_success_message()\n",
        "    \n",
        "def test_generator(Generator):\n",
        "    batch_size = 50\n",
        "    z_size = 25\n",
        "    conv_dim=10\n",
        "    G = Generator(z_size, conv_dim)\n",
        "\n",
        "    # create random input\n",
        "    z = np.random.uniform(-1, 1, size=(batch_size, z_size))\n",
        "    z = torch.from_numpy(z).float()\n",
        "    \n",
        "    train_on_gpu = torch.cuda.is_available()\n",
        "    if train_on_gpu:\n",
        "        z.cuda()\n",
        "    #b = torch.LongTensor(a)\n",
        "    #nn_input = torch.autograd.Variable(b)\n",
        "\n",
        "    output = G(z)\n",
        "    assert_test = AssertTest({\n",
        "        'Z size': z_size,\n",
        "        'Conv Dim': conv_dim,\n",
        "        'Batch Size': batch_size,\n",
        "        'Input': z})\n",
        "\n",
        "    correct_output_size = (batch_size, 3, 32, 32)\n",
        "    assert_condition = output.size() == correct_output_size\n",
        "    assert_message = 'Wrong output size. Expected type {}. Got type {}'.format(correct_output_size, output.size())\n",
        "    assert_test.test(assert_condition, assert_message)\n",
        "\n",
        "    _print_success_message()"
      ],
      "execution_count": 0,
      "outputs": []
    },
    {
      "metadata": {
        "id": "U0evoK4D6EYU",
        "colab_type": "text"
      },
      "cell_type": "markdown",
      "source": [
        "## Visualize the CelebA Data\n",
        "\n",
        "The [CelebA](http://mmlab.ie.cuhk.edu.hk/projects/CelebA.html) dataset contains over 200,000 celebrity images with annotations. Since you're going to be generating faces, you won't need the annotations, you'll only need the images. Note that these are color images with [3 color channels (RGB)](https://en.wikipedia.org/wiki/Channel_(digital_image)#RGB_Images) each.\n",
        "\n",
        "### Pre-process and Load the Data\n",
        "\n",
        "Since the project's main focus is on building the GANs, we've done *some* of the pre-processing for you. Each of the CelebA images has been cropped to remove parts of the image that don't include a face, then resized down to 64x64x3 NumPy images. This *pre-processed* dataset is a smaller subset of the very large CelebA data.\n",
        "\n",
        "> There are a few other steps that you'll need to **transform** this data and create a **DataLoader**.\n",
        "\n",
        "#### Exercise: Complete the following `get_dataloader` function, such that it satisfies these requirements:\n",
        "\n",
        "* Your images should be square, Tensor images of size `image_size x image_size` in the x and y dimension.\n",
        "* Your function should return a DataLoader that shuffles and batches these Tensor images.\n",
        "\n",
        "#### ImageFolder\n",
        "\n",
        "To create a dataset given a directory of images, it's recommended that you use PyTorch's [ImageFolder](https://pytorch.org/docs/stable/torchvision/datasets.html#imagefolder) wrapper, with a root directory `processed_celeba_small/` and data transformation passed in."
      ]
    },
    {
      "metadata": {
        "id": "Y5SeRKcN6EYW",
        "colab_type": "code",
        "colab": {}
      },
      "cell_type": "code",
      "source": [
        "# necessary imports\n",
        "import torch\n",
        "from torchvision import datasets\n",
        "from torchvision import transforms"
      ],
      "execution_count": 0,
      "outputs": []
    },
    {
      "metadata": {
        "id": "VXsCHM7oKkjL",
        "colab_type": "code",
        "outputId": "8f24ff7e-8301-4512-d076-6c6b1869b841",
        "colab": {
          "base_uri": "https://localhost:8080/",
          "height": 390
        }
      },
      "cell_type": "code",
      "source": [
        "!pip install Pillow==4.0.0\n",
        "!pip install PIL\n",
        "!pip install image\n",
        "#import PIL.image"
      ],
      "execution_count": 0,
      "outputs": [
        {
          "output_type": "stream",
          "text": [
            "Collecting Pillow==4.0.0\n",
            "\u001b[?25l  Downloading https://files.pythonhosted.org/packages/37/e8/b3fbf87b0188d22246678f8cd61e23e31caa1769ebc06f1664e2e5fe8a17/Pillow-4.0.0-cp36-cp36m-manylinux1_x86_64.whl (5.6MB)\n",
            "\u001b[K    100% |████████████████████████████████| 5.6MB 5.8MB/s \n",
            "\u001b[?25hRequirement already satisfied: olefile in /usr/local/lib/python3.6/dist-packages (from Pillow==4.0.0) (0.46)\n",
            "\u001b[31mtorchvision 0.2.1 has requirement pillow>=4.1.1, but you'll have pillow 4.0.0 which is incompatible.\u001b[0m\n",
            "Installing collected packages: Pillow\n",
            "  Found existing installation: Pillow 5.4.1\n",
            "    Uninstalling Pillow-5.4.1:\n",
            "      Successfully uninstalled Pillow-5.4.1\n",
            "Successfully installed Pillow-4.0.0\n",
            "\u001b[0;31;1mWARNING: The following packages were previously imported in this runtime:\n",
            "  [PIL]\n",
            "You must restart the runtime in order to use newly installed versions.\u001b[0m\n",
            "Collecting PIL\n",
            "\u001b[31m  Could not find a version that satisfies the requirement PIL (from versions: )\u001b[0m\n",
            "\u001b[31mNo matching distribution found for PIL\u001b[0m\n",
            "Requirement already satisfied: image in /usr/local/lib/python3.6/dist-packages (1.5.27)\n",
            "Requirement already satisfied: pillow in /usr/local/lib/python3.6/dist-packages (from image) (4.0.0)\n",
            "Requirement already satisfied: django in /usr/local/lib/python3.6/dist-packages (from image) (2.1.5)\n",
            "Requirement already satisfied: olefile in /usr/local/lib/python3.6/dist-packages (from pillow->image) (0.46)\n",
            "Requirement already satisfied: pytz in /usr/local/lib/python3.6/dist-packages (from django->image) (2018.9)\n"
          ],
          "name": "stdout"
        }
      ]
    },
    {
      "metadata": {
        "id": "pXcWCK096EYa",
        "colab_type": "code",
        "colab": {}
      },
      "cell_type": "code",
      "source": [
        "def get_dataloader(batch_size, image_size, data_dir='processed_celeba_small/'):\n",
        "    \"\"\"\n",
        "    Batch the neural network data using DataLoader\n",
        "    :param batch_size: The size of each batch; the number of images in a batch\n",
        "    :param img_size: The square size of the image data (x, y)\n",
        "    :param data_dir: Directory where image data is located\n",
        "    :return: DataLoader with batched data\n",
        "    \"\"\"\n",
        "    \"\"\"data_transforms = transforms.Compose([transforms.ToPILImage(),\n",
        "                                    transforms.Resize(size=[image_size, image_size]),\n",
        "                                    transforms.ToTensor(),\n",
        "                                    transforms.Normalize((0.5, 0.5, 0.5), (0.5, 0.5, 0.5)),\n",
        "                                    ])\n",
        "    image_datasets = {\n",
        "      datasets.ImageFolder(data_dir, transform=data_transforms)}\n",
        "                                      \n",
        "    dataloaders = {\n",
        "     torch.utils.data.DataLoader(image_datasets, batch_size=batch_size, shuffle=True),\n",
        "    \n",
        "          }\"\"\"\n",
        "    \n",
        "    \n",
        "      # TODO: Implement function and return a dataloader\n",
        "    transform = transforms.Compose([transforms.Resize(image_size), # resize to 128x128\n",
        "                                    transforms.ToTensor()])\n",
        "\n",
        "    # get training and test directories\n",
        "    image_path = './' + data_dir\n",
        "\n",
        "    # define datasets using ImageFolder\n",
        "    train_dataset = datasets.ImageFolder(image_path, transform)\n",
        "    \n",
        "    # create and return DataLoaders\n",
        "    train_loader = DataLoader(dataset=train_dataset, batch_size=batch_size, shuffle=True)\n",
        "    # TODO: Implement function and return a dataloader\n",
        "    \n",
        "    return train_loader\n"
      ],
      "execution_count": 0,
      "outputs": []
    },
    {
      "metadata": {
        "id": "5Rb1ks_R6EYe",
        "colab_type": "text"
      },
      "cell_type": "markdown",
      "source": [
        "## Create a DataLoader\n",
        "\n",
        "#### Exercise: Create a DataLoader `celeba_train_loader` with appropriate hyperparameters.\n",
        "\n",
        "Call the above function and create a dataloader to view images. \n",
        "* You can decide on any reasonable `batch_size` parameter\n",
        "* Your `image_size` **must be** `32`. Resizing the data to a smaller size will make for faster training, while still creating convincing images of faces!"
      ]
    },
    {
      "metadata": {
        "id": "2DBL2BkG6EYg",
        "colab_type": "code",
        "colab": {}
      },
      "cell_type": "code",
      "source": [
        "# Define function hyperparameters\n",
        "batch_size =128\n",
        "img_size = 32\n",
        "\n",
        "\"\"\"\n",
        "DON'T MODIFY ANYTHING IN THIS CELL THAT IS BELOW THIS LINE\n",
        "\"\"\"\n",
        "# Call your function and get a dataloader\n",
        "celeba_train_loader = get_dataloader(batch_size, img_size)\n"
      ],
      "execution_count": 0,
      "outputs": []
    },
    {
      "metadata": {
        "id": "z7urQLPn6EYl",
        "colab_type": "text"
      },
      "cell_type": "markdown",
      "source": [
        "Next, you can view some images! You should seen square images of somewhat-centered faces.\n",
        "\n",
        "Note: You'll need to convert the Tensor images into a NumPy type and transpose the dimensions to correctly display an image, suggested `imshow` code is below, but it may not be perfect."
      ]
    },
    {
      "metadata": {
        "id": "Wzuh_QRR6EYn",
        "colab_type": "code",
        "outputId": "4daa0273-b32d-489d-f47e-4783c07708ce",
        "colab": {
          "base_uri": "https://localhost:8080/",
          "height": 281
        }
      },
      "cell_type": "code",
      "source": [
        "# helper display function\n",
        "def imshow(img):\n",
        "    npimg = img.numpy()\n",
        "    plt.imshow(np.transpose(npimg, (1, 2, 0)))\n",
        "\n",
        "\"\"\"\n",
        "DON'T MODIFY ANYTHING IN THIS CELL THAT IS BELOW THIS LINE\n",
        "\"\"\"\n",
        "# obtain one batch of training images\n",
        "dataiter = iter(celeba_train_loader)\n",
        "print(celeba_train_loader)\n",
        "images, _ = dataiter.next() # iter(next(celeba_train_loader))# # _ for no labels\n",
        "\n",
        " #plot the images in the batch, along with the corresponding labels\n",
        "fig = plt.figure(figsize=(20, 4))\n",
        "plot_size=20\n",
        "for idx in np.arange(plot_size):\n",
        "    ax = fig.add_subplot(2, plot_size/2, idx+1, xticks=[], yticks=[])\n",
        "    imshow(images[idx])"
      ],
      "execution_count": 6,
      "outputs": [
        {
          "output_type": "stream",
          "text": [
            "<torch.utils.data.dataloader.DataLoader object at 0x7feeb21945f8>\n"
          ],
          "name": "stdout"
        },
        {
          "output_type": "display_data",
          "data": {
            "image/png": "[encoded data removed]",
            "text/plain": [
              "<matplotlib.figure.Figure at 0x7fee70221cf8>"
            ]
          },
          "metadata": {
            "tags": [],
            "image/png": {
              "width": 1130,
              "height": 227
            }
          }
        }
      ]
    },
    {
      "metadata": {
        "id": "gpWO93sS6EYr",
        "colab_type": "text"
      },
      "cell_type": "markdown",
      "source": [
        "#### Exercise: Pre-process your image data and scale it to a pixel range of -1 to 1\n",
        "\n",
        "You need to do a bit of pre-processing; you know that the output of a `tanh` activated generator will contain pixel values in a range from -1 to 1, and so, we need to rescale our training images to a range of -1 to 1. (Right now, they are in a range from 0-1.)"
      ]
    },
    {
      "metadata": {
        "id": "4lTo2--T6EYt",
        "colab_type": "code",
        "colab": {}
      },
      "cell_type": "code",
      "source": [
        "# TODO: Complete the scale function\n",
        "def scale(x, feature_range=(-1, 1)):\n",
        "    ''' Scale takes in an image x and returns that image, scaled\n",
        "       with a feature_range of pixel values from -1 to 1. \n",
        "       This function assumes that the input x is already scaled from 0-1.'''\n",
        "    # assume x is scaled to (0, 1)\n",
        "    # scale to feature_range and return scaled x\n",
        "    min, max = feature_range\n",
        "    x = x * (max - min) + min\n",
        "    return x\n"
      ],
      "execution_count": 0,
      "outputs": []
    },
    {
      "metadata": {
        "id": "g-CbTbct6EY0",
        "colab_type": "code",
        "outputId": "59f0413f-beb9-4e2e-ae94-7ed20634348d",
        "colab": {
          "base_uri": "https://localhost:8080/",
          "height": 50
        }
      },
      "cell_type": "code",
      "source": [
        "\"\"\"\n",
        "DON'T MODIFY ANYTHING IN THIS CELL THAT IS BELOW THIS LINE\n",
        "\"\"\"\n",
        "# check scaled range\n",
        "# should be close to -1 to 1\n",
        "img = images[0]\n",
        "scaled_img = scale(img)\n",
        "\n",
        "print('Min: ', scaled_img.min())\n",
        "print('Max: ', scaled_img.max())"
      ],
      "execution_count": 8,
      "outputs": [
        {
          "output_type": "stream",
          "text": [
            "Min:  tensor(-0.9765)\n",
            "Max:  tensor(0.8824)\n"
          ],
          "name": "stdout"
        }
      ]
    },
    {
      "metadata": {
        "id": "CXJC_Vvm6EY6",
        "colab_type": "text"
      },
      "cell_type": "markdown",
      "source": [
        "---\n",
        "# Define the Model\n",
        "\n",
        "A GAN is comprised of two adversarial networks, a discriminator and a generator.\n",
        "\n",
        "## Discriminator\n",
        "\n",
        "Your first task will be to define the discriminator. This is a convolutional classifier like you've built before, only without any maxpooling layers. To deal with this complex data, it's suggested you use a deep network with **normalization**. You are also allowed to create any helper functions that may be useful.\n",
        "\n",
        "#### Exercise: Complete the Discriminator class\n",
        "* The inputs to the discriminator are 32x32x3 tensor images\n",
        "* The output should be a single value that will indicate whether a given image is real or fake\n"
      ]
    },
    {
      "metadata": {
        "id": "CSG_dJOd6EY8",
        "colab_type": "code",
        "colab": {}
      },
      "cell_type": "code",
      "source": [
        "import torch.nn as nn\n",
        "import torch.nn.functional as F\n"
      ],
      "execution_count": 0,
      "outputs": []
    },
    {
      "metadata": {
        "id": "V3Ycybi86EZC",
        "colab_type": "code",
        "outputId": "bc3d32bb-8e61-49c6-f57e-63043a3703f8",
        "colab": {
          "base_uri": "https://localhost:8080/",
          "height": 195
        }
      },
      "cell_type": "code",
      "source": [
        "class Discriminator(nn.Module):\n",
        "\n",
        "    def __init__(self, conv_dim):\n",
        "        \"\"\"\n",
        "        Initialize the Discriminator Module\n",
        "        :param conv_dim: The depth of the first convolutional layer\n",
        "        \"\"\"\n",
        "        super(Discriminator, self).__init__()\n",
        "        self.conv_dim=conv_dim\n",
        "        self.conv1=nn.Conv2d(3, conv_dim, kernel_size=4, stride=2, padding=1)\n",
        "        self.bn1 = nn.BatchNorm2d(conv_dim)\n",
        "        self.conv2=nn.Conv2d(conv_dim, conv_dim*2, kernel_size=4, stride=2, padding=1)\n",
        "        self.bn2 = nn.BatchNorm2d(conv_dim*2)\n",
        "        self.conv3=nn.Conv2d(conv_dim*2, conv_dim*4, kernel_size=4, stride=2, padding=1)\n",
        "        self.bn3 = nn.BatchNorm2d(conv_dim*4)\n",
        "       \n",
        "\n",
        "        # complete init function\n",
        "        # final, fully-connected layer\n",
        "        self.fc = nn.Linear(conv_dim*4*4*4, 1)\n",
        "\n",
        "    def forward(self, x):\n",
        "        \"\"\"\n",
        "        Forward propagation of the neural network\n",
        "        :param x: The input to the neural network     \n",
        "        :return: Discriminator logits; the output of the neural network\n",
        "        \"\"\"\n",
        "        # define feedforward behavior\n",
        "        \n",
        "        out=F.leaky_relu(self.conv1(x))\n",
        "        out=F.leaky_relu(self.conv2(out))\n",
        "        out=F.leaky_relu(self.conv3(out))\n",
        "        \n",
        "        # flatten\n",
        "        out = out.view(-1, self.conv_dim*4*4*4)\n",
        "        \n",
        "        # final output layer\n",
        "        out = self.fc(out)   \n",
        "        return out\n",
        "\n",
        "\n",
        "\"\"\"\n",
        "DON'T MODIFY ANYTHING IN THIS CELL THAT IS BELOW THIS LINE\n",
        "\"\"\"\n",
        "test_discriminator(Discriminator)"
      ],
      "execution_count": 11,
      "outputs": [
        {
          "output_type": "error",
          "ename": "NameError",
          "evalue": "ignored",
          "traceback": [
            "\u001b[0;31m---------------------------------------------------------------------------\u001b[0m",
            "\u001b[0;31mNameError\u001b[0m                                 Traceback (most recent call last)",
            "\u001b[0;32m<ipython-input-11-9c12c06f5dee>\u001b[0m in \u001b[0;36m<module>\u001b[0;34m()\u001b[0m\n\u001b[1;32m     43\u001b[0m \u001b[0mDON\u001b[0m\u001b[0;31m'\u001b[0m\u001b[0mT\u001b[0m \u001b[0mMODIFY\u001b[0m \u001b[0mANYTHING\u001b[0m \u001b[0mIN\u001b[0m \u001b[0mTHIS\u001b[0m \u001b[0mCELL\u001b[0m \u001b[0mTHAT\u001b[0m \u001b[0mIS\u001b[0m \u001b[0mBELOW\u001b[0m \u001b[0mTHIS\u001b[0m \u001b[0mLINE\u001b[0m\u001b[0;34m\u001b[0m\u001b[0;34m\u001b[0m\u001b[0m\n\u001b[1;32m     44\u001b[0m \"\"\"\n\u001b[0;32m---> 45\u001b[0;31m \u001b[0mtest_discriminator\u001b[0m\u001b[0;34m(\u001b[0m\u001b[0mDiscriminator\u001b[0m\u001b[0;34m)\u001b[0m\u001b[0;34m\u001b[0m\u001b[0;34m\u001b[0m\u001b[0m\n\u001b[0m",
            "\u001b[0;31mNameError\u001b[0m: name 'test_discriminator' is not defined"
          ]
        }
      ]
    },
    {
      "metadata": {
        "id": "227FGEwZ6EZH",
        "colab_type": "text"
      },
      "cell_type": "markdown",
      "source": [
        "## Generator\n",
        "\n",
        "The generator should upsample an input and generate a *new* image of the same size as our training data `32x32x3`. This should be mostly transpose convolutional layers with normalization applied to the outputs.\n",
        "\n",
        "#### Exercise: Complete the Generator class\n",
        "* The inputs to the generator are vectors of some length `z_size`\n",
        "* The output should be a image of shape `32x32x3`"
      ]
    },
    {
      "metadata": {
        "id": "iLsQmk5w6EZI",
        "colab_type": "code",
        "outputId": "2fae5df5-3535-4492-b18d-4758d6e28997",
        "colab": {
          "base_uri": "https://localhost:8080/",
          "height": 34
        }
      },
      "cell_type": "code",
      "source": [
        "class Generator(nn.Module):\n",
        "    \n",
        "    def __init__(self, z_size, conv_dim):\n",
        "        \"\"\"\n",
        "        Initialize the Generator Module\n",
        "        :param z_size: The length of the input latent vector, z\n",
        "        :param conv_dim: The depth of the inputs to the *last* transpose convolutional layer\n",
        "        \"\"\"\n",
        "        super(Generator, self).__init__()\n",
        "\n",
        "        # complete init function\n",
        "         # complete init function\n",
        "        self.conv_dim = conv_dim\n",
        "        self.z_size=z_size\n",
        "        # first, fully-connected layer\n",
        "        self.fc = nn.Linear(z_size, conv_dim*4*4*4)\n",
        "        \n",
        "        self.tconv2d1=nn.ConvTranspose2d(conv_dim*4, conv_dim*2, kernel_size=4, stride=2, padding=1)\n",
        "        self.tconv2d2=nn.ConvTranspose2d(conv_dim*2, conv_dim, kernel_size=4, stride=2, padding=1)\n",
        "        self.tconv2d3=nn.ConvTranspose2d(conv_dim, 3, kernel_size=4, stride=2, padding=1)\n",
        "        \n",
        "\n",
        "    def forward(self, x):\n",
        "        \"\"\"\n",
        "        Forward propagation of the neural network\n",
        "        :param x: The input to the neural network     \n",
        "        :return: A 32x32x3 Tensor image as output\n",
        "        \"\"\"\n",
        "        # define feedforward behavior\n",
        "        # define feedforward behavior\n",
        "        out = self.fc(x)\n",
        "        out = out.view(-1, self.conv_dim*4, 4, 4) # (batch_size, depth, 4, 4)\n",
        "        \n",
        "        # hidden transpose conv layers + relu\n",
        "        out = F.relu(self.tconv2d1(out))\n",
        "        out = F.relu(self.tconv2d2(out))\n",
        "        \n",
        "        # last layer + tanh activation\n",
        "        out = self.tconv2d3(out)\n",
        "        out = torch.tanh(out)\n",
        "        \n",
        "        return out\n",
        "\n",
        "\n",
        "\"\"\"\n",
        "DON'T MODIFY ANYTHING IN THIS CELL THAT IS BELOW THIS LINE\n",
        "\"\"\"\n",
        "test_generator(Generator)"
      ],
      "execution_count": 0,
      "outputs": [
        {
          "output_type": "stream",
          "text": [
            "Tests Passed\n"
          ],
          "name": "stdout"
        }
      ]
    },
    {
      "metadata": {
        "id": "WHyddT886EZL",
        "colab_type": "text"
      },
      "cell_type": "markdown",
      "source": [
        "## Initialize the weights of your networks\n",
        "\n",
        "To help your models converge, you should initialize the weights of the convolutional and linear layers in your model. From reading the [original DCGAN paper](https://arxiv.org/pdf/1511.06434.pdf), they say:\n",
        "> All weights were initialized from a zero-centered Normal distribution with standard deviation 0.02.\n",
        "\n",
        "So, your next task will be to define a weight initialization function that does just this!\n",
        "\n",
        "You can refer back to the lesson on weight initialization or even consult existing model code, such as that from [the `networks.py` file in CycleGAN Github repository](https://github.com/junyanz/pytorch-CycleGAN-and-pix2pix/blob/master/models/networks.py) to help you complete this function.\n",
        "\n",
        "#### Exercise: Complete the weight initialization function\n",
        "\n",
        "* This should initialize only **convolutional** and **linear** layers\n",
        "* Initialize the weights to a normal distribution, centered around 0, with a standard deviation of 0.02.\n",
        "* The bias terms, if they exist, may be left alone or set to 0."
      ]
    },
    {
      "metadata": {
        "id": "BQHGAgWZ6EZM",
        "colab_type": "code",
        "colab": {}
      },
      "cell_type": "code",
      "source": [
        "from torch.nn import init\n",
        "\n",
        "def weights_init_normal(m,init_type='normal', gain=0.02):\n",
        "    \"\"\"\n",
        "    Applies initial weights to certain layers in a model .\n",
        "    The weights are taken from a normal distribution \n",
        "    with mean = 0, std dev = 0.02.\n",
        "    :param m: A module or layer in a network    \n",
        "    \"\"\"\n",
        "    # classname will be something like:\n",
        "    # `Conv`, `BatchNorm2d`, `Linear`, etc.\n",
        "    # TODO: Apply initial weights to convolutional and linear layers\n",
        "    \n",
        "    classname = m.__class__.__name__\n",
        "    if hasattr(m, 'weight') and (classname.find('Conv') != -1 or classname.find('Linear') != -1):\n",
        "            if init_type == 'normal':\n",
        "                init.normal_(m.weight.data, 0.0, gain)\n",
        "            elif init_type == 'xavier':\n",
        "                init.xavier_normal_(m.weight.data, gain=gain)\n",
        "            elif init_type == 'kaiming':\n",
        "                init.kaiming_normal_(m.weight.data, a=0, mode='fan_in')\n",
        "            elif init_type == 'orthogonal':\n",
        "                init.orthogonal_(m.weight.data, gain=gain)\n",
        "            else:\n",
        "                raise NotImplementedError('initialization method [%s] is not implemented' % init_type)\n",
        "            if hasattr(m, 'bias') and m.bias is not None:\n",
        "                init.constant_(m.bias.data, 0.0)\n",
        "    elif classname.find('BatchNorm2d') != -1:\n",
        "            init.normal_(m.weight.data, 1.0, gain)\n",
        "            init.constant_(m.bias.data, 0.0)\n",
        "    "
      ],
      "execution_count": 0,
      "outputs": []
    },
    {
      "metadata": {
        "collapsed": true,
        "id": "z3lcZnQ16EZQ",
        "colab_type": "text"
      },
      "cell_type": "markdown",
      "source": [
        "## Build complete network\n",
        "\n",
        "Define your models' hyperparameters and instantiate the discriminator and generator from the classes defined above. Make sure you've passed in the correct input arguments."
      ]
    },
    {
      "metadata": {
        "id": "WiX-RaOr6EZS",
        "colab_type": "code",
        "colab": {}
      },
      "cell_type": "code",
      "source": [
        "\"\"\"\n",
        "DON'T MODIFY ANYTHING IN THIS CELL THAT IS BELOW THIS LINE\n",
        "\"\"\"\n",
        "def build_network(d_conv_dim, g_conv_dim, z_size):\n",
        "    # define discriminator and generator\n",
        "    D = Discriminator(d_conv_dim)\n",
        "    G = Generator(z_size=z_size, conv_dim=g_conv_dim)\n",
        "\n",
        "    # initialize model weights\n",
        "    D.apply(weights_init_normal)\n",
        "    G.apply(weights_init_normal)\n",
        "\n",
        "    print(D)\n",
        "    print()\n",
        "    print(G)\n",
        "    \n",
        "    return D, G\n"
      ],
      "execution_count": 0,
      "outputs": []
    },
    {
      "metadata": {
        "id": "82l3s0NH6EZV",
        "colab_type": "text"
      },
      "cell_type": "markdown",
      "source": [
        "#### Exercise: Define model hyperparameters"
      ]
    },
    {
      "metadata": {
        "id": "QpjCyPQY6EZW",
        "colab_type": "code",
        "outputId": "5ea6aef6-57cf-4eb5-aed9-21fd40eca247",
        "colab": {
          "base_uri": "https://localhost:8080/",
          "height": 286
        }
      },
      "cell_type": "code",
      "source": [
        "# Define model hyperparams\n",
        "d_conv_dim = 32\n",
        "g_conv_dim = 32\n",
        "z_size = 100\n",
        "\n",
        "\"\"\"\n",
        "DON'T MODIFY ANYTHING IN THIS CELL THAT IS BELOW THIS LINE\n",
        "\"\"\"\n",
        "D, G = build_network(d_conv_dim, g_conv_dim, z_size)"
      ],
      "execution_count": 0,
      "outputs": [
        {
          "output_type": "stream",
          "text": [
            "Discriminator(\n",
            "  (conv1): Conv2d(3, 32, kernel_size=(4, 4), stride=(2, 2), padding=(1, 1))\n",
            "  (bn1): BatchNorm2d(32, eps=1e-05, momentum=0.1, affine=True, track_running_stats=True)\n",
            "  (conv2): Conv2d(32, 64, kernel_size=(4, 4), stride=(2, 2), padding=(1, 1))\n",
            "  (bn2): BatchNorm2d(64, eps=1e-05, momentum=0.1, affine=True, track_running_stats=True)\n",
            "  (conv3): Conv2d(64, 128, kernel_size=(4, 4), stride=(2, 2), padding=(1, 1))\n",
            "  (bn3): BatchNorm2d(128, eps=1e-05, momentum=0.1, affine=True, track_running_stats=True)\n",
            "  (fc): Linear(in_features=2048, out_features=1, bias=True)\n",
            ")\n",
            "\n",
            "Generator(\n",
            "  (fc): Linear(in_features=100, out_features=2048, bias=True)\n",
            "  (tconv2d1): ConvTranspose2d(128, 64, kernel_size=(4, 4), stride=(2, 2), padding=(1, 1))\n",
            "  (tconv2d2): ConvTranspose2d(64, 32, kernel_size=(4, 4), stride=(2, 2), padding=(1, 1))\n",
            "  (tconv2d3): ConvTranspose2d(32, 3, kernel_size=(4, 4), stride=(2, 2), padding=(1, 1))\n",
            ")\n"
          ],
          "name": "stdout"
        }
      ]
    },
    {
      "metadata": {
        "id": "lEHF7Yzz6EZZ",
        "colab_type": "text"
      },
      "cell_type": "markdown",
      "source": [
        "### Training on GPU\n",
        "\n",
        "Check if you can train on GPU. Here, we'll set this as a boolean variable `train_on_gpu`. Later, you'll be responsible for making sure that \n",
        ">* Models,\n",
        "* Model inputs, and\n",
        "* Loss function arguments\n",
        "\n",
        "Are moved to GPU, where appropriate."
      ]
    },
    {
      "metadata": {
        "id": "ZAhuzPwS6EZa",
        "colab_type": "code",
        "outputId": "14b276c9-a01c-4b9f-cbc4-811089f0b972",
        "colab": {
          "base_uri": "https://localhost:8080/",
          "height": 34
        }
      },
      "cell_type": "code",
      "source": [
        "\"\"\"\n",
        "DON'T MODIFY ANYTHING IN THIS CELL\n",
        "\"\"\"\n",
        "import torch\n",
        "\n",
        "# Check for a GPU\n",
        "train_on_gpu = torch.cuda.is_available()\n",
        "if not train_on_gpu:\n",
        "    print('No GPU found. Please use a GPU to train your neural network.')\n",
        "else:\n",
        "    print('Training on GPU!')"
      ],
      "execution_count": 0,
      "outputs": [
        {
          "output_type": "stream",
          "text": [
            "No GPU found. Please use a GPU to train your neural network.\n"
          ],
          "name": "stdout"
        }
      ]
    },
    {
      "metadata": {
        "id": "f67W_L7v6EZi",
        "colab_type": "text"
      },
      "cell_type": "markdown",
      "source": [
        "---\n",
        "## Discriminator and Generator Losses\n",
        "\n",
        "Now we need to calculate the losses for both types of adversarial networks.\n",
        "\n",
        "### Discriminator Losses\n",
        "\n",
        "> * For the discriminator, the total loss is the sum of the losses for real and fake images, `d_loss = d_real_loss + d_fake_loss`. \n",
        "* Remember that we want the discriminator to output 1 for real images and 0 for fake images, so we need to set up the losses to reflect that.\n",
        "\n",
        "\n",
        "### Generator Loss\n",
        "\n",
        "The generator loss will look similar only with flipped labels. The generator's goal is to get the discriminator to *think* its generated images are *real*.\n",
        "\n",
        "#### Exercise: Complete real and fake loss functions\n",
        "\n",
        "**You may choose to use either cross entropy or a least squares error loss to complete the following `real_loss` and `fake_loss` functions.**"
      ]
    },
    {
      "metadata": {
        "id": "_yGO3_Na6EZj",
        "colab_type": "code",
        "colab": {}
      },
      "cell_type": "code",
      "source": [
        "def real_loss(D_out):\n",
        "    '''Calculates how close discriminator outputs are to being real.\n",
        "       param, D_out: discriminator logits\n",
        "       return: real loss'''\n",
        "    loss = \n",
        "    return loss\n",
        "\n",
        "def fake_loss(D_out):\n",
        "    '''Calculates how close discriminator outputs are to being fake.\n",
        "       param, D_out: discriminator logits\n",
        "       return: fake loss'''\n",
        "    loss = \n",
        "    return loss"
      ],
      "execution_count": 0,
      "outputs": []
    },
    {
      "metadata": {
        "id": "ADy69dDt6EZm",
        "colab_type": "text"
      },
      "cell_type": "markdown",
      "source": [
        "## Optimizers\n",
        "\n",
        "#### Exercise: Define optimizers for your Discriminator (D) and Generator (G)\n",
        "\n",
        "Define optimizers for your models with appropriate hyperparameters."
      ]
    },
    {
      "metadata": {
        "id": "bn0yVbYI6EZn",
        "colab_type": "code",
        "colab": {}
      },
      "cell_type": "code",
      "source": [
        "import torch.optim as optim\n",
        "\n",
        "# Create optimizers for the discriminator D and generator G\n",
        "d_optimizer = \n",
        "g_optimizer = "
      ],
      "execution_count": 0,
      "outputs": []
    },
    {
      "metadata": {
        "id": "mF24_LvH6EZr",
        "colab_type": "text"
      },
      "cell_type": "markdown",
      "source": [
        "---\n",
        "## Training\n",
        "\n",
        "Training will involve alternating between training the discriminator and the generator. You'll use your functions `real_loss` and `fake_loss` to help you calculate the discriminator losses.\n",
        "\n",
        "* You should train the discriminator by alternating on real and fake images\n",
        "* Then the generator, which tries to trick the discriminator and should have an opposing loss function\n",
        "\n",
        "\n",
        "#### Saving Samples\n",
        "\n",
        "You've been given some code to print out some loss statistics and save some generated \"fake\" samples."
      ]
    },
    {
      "metadata": {
        "id": "5eQKLuen6EZr",
        "colab_type": "text"
      },
      "cell_type": "markdown",
      "source": [
        "#### Exercise: Complete the training function\n",
        "\n",
        "Keep in mind that, if you've moved your models to GPU, you'll also have to move any model inputs to GPU."
      ]
    },
    {
      "metadata": {
        "id": "in5-ysBk6EZs",
        "colab_type": "code",
        "colab": {}
      },
      "cell_type": "code",
      "source": [
        "def train(D, G, n_epochs, print_every=50):\n",
        "    '''Trains adversarial networks for some number of epochs\n",
        "       param, D: the discriminator network\n",
        "       param, G: the generator network\n",
        "       param, n_epochs: number of epochs to train for\n",
        "       param, print_every: when to print and record the models' losses\n",
        "       return: D and G losses'''\n",
        "    \n",
        "    # move models to GPU\n",
        "    if train_on_gpu:\n",
        "        D.cuda()\n",
        "        G.cuda()\n",
        "\n",
        "    # keep track of loss and generated, \"fake\" samples\n",
        "    samples = []\n",
        "    losses = []\n",
        "\n",
        "    # Get some fixed data for sampling. These are images that are held\n",
        "    # constant throughout training, and allow us to inspect the model's performance\n",
        "    sample_size=16\n",
        "    fixed_z = np.random.uniform(-1, 1, size=(sample_size, z_size))\n",
        "    fixed_z = torch.from_numpy(fixed_z).float()\n",
        "    # move z to GPU if available\n",
        "    if train_on_gpu:\n",
        "        fixed_z = fixed_z.cuda()\n",
        "\n",
        "    # epoch training loop\n",
        "    for epoch in range(n_epochs):\n",
        "\n",
        "        # batch training loop\n",
        "        for batch_i, (real_images, _) in enumerate(celeba_train_loader):\n",
        "\n",
        "            batch_size = real_images.size(0)\n",
        "            real_images = scale(real_images)\n",
        "\n",
        "            # ===============================================\n",
        "            #         YOUR CODE HERE: TRAIN THE NETWORKS\n",
        "            # ===============================================\n",
        "            \n",
        "            # 1. Train the discriminator on real and fake images\n",
        "            d_loss = \n",
        "\n",
        "            # 2. Train the generator with an adversarial loss\n",
        "            g_loss = \n",
        "            \n",
        "            \n",
        "            # ===============================================\n",
        "            #              END OF YOUR CODE\n",
        "            # ===============================================\n",
        "\n",
        "            # Print some loss stats\n",
        "            if batch_i % print_every == 0:\n",
        "                # append discriminator loss and generator loss\n",
        "                losses.append((d_loss.item(), g_loss.item()))\n",
        "                # print discriminator and generator loss\n",
        "                print('Epoch [{:5d}/{:5d}] | d_loss: {:6.4f} | g_loss: {:6.4f}'.format(\n",
        "                        epoch+1, n_epochs, d_loss.item(), g_loss.item()))\n",
        "\n",
        "\n",
        "        ## AFTER EACH EPOCH##    \n",
        "        # this code assumes your generator is named G, feel free to change the name\n",
        "        # generate and save sample, fake images\n",
        "        G.eval() # for generating samples\n",
        "        samples_z = G(fixed_z)\n",
        "        samples.append(samples_z)\n",
        "        G.train() # back to training mode\n",
        "\n",
        "    # Save training generator samples\n",
        "    with open('train_samples.pkl', 'wb') as f:\n",
        "        pkl.dump(samples, f)\n",
        "    \n",
        "    # finally return losses\n",
        "    return losses"
      ],
      "execution_count": 0,
      "outputs": []
    },
    {
      "metadata": {
        "id": "7Y6ASrAW6EZx",
        "colab_type": "text"
      },
      "cell_type": "markdown",
      "source": [
        "Set your number of training epochs and train your GAN!"
      ]
    },
    {
      "metadata": {
        "id": "HF27mIkb6EZy",
        "colab_type": "code",
        "colab": {}
      },
      "cell_type": "code",
      "source": [
        "# set number of epochs \n",
        "n_epochs = \n",
        "\n",
        "\n",
        "\"\"\"\n",
        "DON'T MODIFY ANYTHING IN THIS CELL\n",
        "\"\"\"\n",
        "# call training function\n",
        "losses = train(D, G, n_epochs=n_epochs)"
      ],
      "execution_count": 0,
      "outputs": []
    },
    {
      "metadata": {
        "collapsed": true,
        "id": "9d81iksQ6EZ1",
        "colab_type": "text"
      },
      "cell_type": "markdown",
      "source": [
        "## Training loss\n",
        "\n",
        "Plot the training losses for the generator and discriminator, recorded after each epoch."
      ]
    },
    {
      "metadata": {
        "id": "2Cu0NQkB6EZ3",
        "colab_type": "code",
        "colab": {}
      },
      "cell_type": "code",
      "source": [
        "fig, ax = plt.subplots()\n",
        "losses = np.array(losses)\n",
        "plt.plot(losses.T[0], label='Discriminator', alpha=0.5)\n",
        "plt.plot(losses.T[1], label='Generator', alpha=0.5)\n",
        "plt.title(\"Training Losses\")\n",
        "plt.legend()"
      ],
      "execution_count": 0,
      "outputs": []
    },
    {
      "metadata": {
        "collapsed": true,
        "id": "6clpDtSO6EZ5",
        "colab_type": "text"
      },
      "cell_type": "markdown",
      "source": [
        "## Generator samples from training\n",
        "\n",
        "View samples of images from the generator, and answer a question about the strengths and weaknesses of your trained models."
      ]
    },
    {
      "metadata": {
        "id": "c_0tRB-J6EZ6",
        "colab_type": "code",
        "colab": {}
      },
      "cell_type": "code",
      "source": [
        "# helper function for viewing a list of passed in sample images\n",
        "def view_samples(epoch, samples):\n",
        "    fig, axes = plt.subplots(figsize=(16,4), nrows=2, ncols=8, sharey=True, sharex=True)\n",
        "    for ax, img in zip(axes.flatten(), samples[epoch]):\n",
        "        img = img.detach().cpu().numpy()\n",
        "        img = np.transpose(img, (1, 2, 0))\n",
        "        img = ((img + 1)*255 / (2)).astype(np.uint8)\n",
        "        ax.xaxis.set_visible(False)\n",
        "        ax.yaxis.set_visible(False)\n",
        "        im = ax.imshow(img.reshape((32,32,3)))"
      ],
      "execution_count": 0,
      "outputs": []
    },
    {
      "metadata": {
        "id": "tTg4vfgm6EZ-",
        "colab_type": "code",
        "colab": {}
      },
      "cell_type": "code",
      "source": [
        "# Load samples from generator, taken while training\n",
        "with open('train_samples.pkl', 'rb') as f:\n",
        "    samples = pkl.load(f)"
      ],
      "execution_count": 0,
      "outputs": []
    },
    {
      "metadata": {
        "id": "8og3xvTI6EaD",
        "colab_type": "code",
        "colab": {}
      },
      "cell_type": "code",
      "source": [
        "_ = view_samples(-1, samples)"
      ],
      "execution_count": 0,
      "outputs": []
    },
    {
      "metadata": {
        "id": "ZAkqstyS6EaG",
        "colab_type": "text"
      },
      "cell_type": "markdown",
      "source": [
        "### Question: What do you notice about your generated samples and how might you improve this model?\n",
        "When you answer this question, consider the following factors:\n",
        "* The dataset is biased; it is made of \"celebrity\" faces that are mostly white\n",
        "* Model size; larger models have the opportunity to learn more features in a data feature space\n",
        "* Optimization strategy; optimizers and number of epochs affect your final result\n"
      ]
    },
    {
      "metadata": {
        "id": "mwpFF2uu6EaG",
        "colab_type": "text"
      },
      "cell_type": "markdown",
      "source": [
        "**Answer:** (Write your answer in this cell)"
      ]
    },
    {
      "metadata": {
        "id": "gjS5od2k6EaI",
        "colab_type": "text"
      },
      "cell_type": "markdown",
      "source": [
        "### Submitting This Project\n",
        "When submitting this project, make sure to run all the cells before saving the notebook. Save the notebook file as \"dlnd_face_generation.ipynb\" and save it as a HTML file under \"File\" -> \"Download as\". Include the \"problem_unittests.py\" files in your submission."
      ]
    }
  ]
}